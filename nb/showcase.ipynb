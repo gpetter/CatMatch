{
 "cells": [
  {
   "cell_type": "code",
   "execution_count": 1,
   "id": "516a7370-928c-4244-b824-8135c96791a4",
   "metadata": {},
   "outputs": [],
   "source": [
    "from astropy.table import Table\n",
    "import numpy as np\n",
    "import catmatch"
   ]
  },
  {
   "cell_type": "code",
   "execution_count": 2,
   "id": "9b90e35e-6447-46fe-a25e-41b539479ee8",
   "metadata": {},
   "outputs": [],
   "source": [
    "ages = Table.read('../tests/testdata/AGES.fits')\n",
    "cdwfs = Table.read('../tests/testdata/CDWFS.fits')"
   ]
  },
  {
   "cell_type": "markdown",
   "id": "77de35b9-00b5-4f41-bf0d-d2d34b8a240a",
   "metadata": {},
   "source": [
    "Find the best match in Table 2 for each row in Table 1 within 3 arcsec"
   ]
  },
  {
   "cell_type": "code",
   "execution_count": 3,
   "id": "1e94def6-5a98-4060-8bde-1a4711e08849",
   "metadata": {},
   "outputs": [
    {
     "name": "stderr",
     "output_type": "stream",
     "text": [
      "WARNING:root:'RA' will be used as RA coordinate\n",
      "WARNING:root:'DEC' will be used as DEC coordinate\n",
      "WARNING:root:'RAJ2000' will be used as RA coordinate\n",
      "WARNING:root:'DEJ2000' will be used as DEC coordinate\n",
      "WARNING: MergeConflictWarning: Cannot merge meta key 'EXTNAME' types <class 'str'> and <class 'str'>, choosing EXTNAME='NWAYMATCH' [astropy.utils.metadata.merge]\n",
      "WARNING:astropy:MergeConflictWarning: Cannot merge meta key 'EXTNAME' types <class 'str'> and <class 'str'>, choosing EXTNAME='NWAYMATCH'\n",
      "WARNING: MergeConflictWarning: Cannot merge meta key 'DATE-HDU' types <class 'str'> and <class 'str'>, choosing DATE-HDU='2024-10-20T18:54:28' [astropy.utils.metadata.merge]\n",
      "WARNING:astropy:MergeConflictWarning: Cannot merge meta key 'DATE-HDU' types <class 'str'> and <class 'str'>, choosing DATE-HDU='2024-10-20T18:54:28'\n"
     ]
    },
    {
     "data": {
      "text/html": [
       "<div><i>Table length=5</i>\n",
       "<table id=\"table4420059216\" class=\"table-striped table-bordered table-condensed\">\n",
       "<thead><tr><th>RA</th><th>DEC</th><th>Zspec</th><th>RAJ2000</th><th>DEJ2000</th><th>FLUX_S</th><th>ZBEST</th><th>GroupSize</th><th>Separation</th></tr></thead>\n",
       "<thead><tr><th>float32</th><th>float32</th><th>float32</th><th>float64</th><th>float64</th><th>float64</th><th>float64</th><th>float64</th><th>float64</th></tr></thead>\n",
       "<tr><td>217.29701</td><td>32.806732</td><td>1.257</td><td>217.2972360081108</td><td>32.8068358197063</td><td>4.542615220843412e-14</td><td>1.2569999694824219</td><td>nan</td><td>0.7774775881546183</td></tr>\n",
       "<tr><td>216.19984</td><td>32.8082</td><td>1.954</td><td>216.1998716999761</td><td>32.80786990809854</td><td>1.3055040218016326e-14</td><td>1.9539999961853027</td><td>nan</td><td>1.1902891601112502</td></tr>\n",
       "<tr><td>216.21259</td><td>32.81331</td><td>0.346</td><td>216.2126399771656</td><td>32.81337212526544</td><td>5.058812741404077e-15</td><td>0.34599998593330383</td><td>nan</td><td>0.2824416863164434</td></tr>\n",
       "<tr><td>216.416</td><td>32.813328</td><td>1.398</td><td>216.4160282783758</td><td>32.81322445088963</td><td>1.0528453625487871e-14</td><td>1.3980000019073486</td><td>nan</td><td>0.38344421923693767</td></tr>\n",
       "<tr><td>218.12918</td><td>32.813538</td><td>0.0</td><td>218.1291335884519</td><td>32.81359207842783</td><td>8.368903791974268e-16</td><td>0.9279</td><td>nan</td><td>0.2480869637380084</td></tr>\n",
       "</table></div>"
      ],
      "text/plain": [
       "<Table length=5>\n",
       "    RA       DEC     Zspec  ... GroupSize      Separation    \n",
       " float32   float32  float32 ...  float64        float64      \n",
       "--------- --------- ------- ... --------- -------------------\n",
       "217.29701 32.806732   1.257 ...       nan  0.7774775881546183\n",
       "216.19984   32.8082   1.954 ...       nan  1.1902891601112502\n",
       "216.21259  32.81331   0.346 ...       nan  0.2824416863164434\n",
       "  216.416 32.813328   1.398 ...       nan 0.38344421923693767\n",
       "218.12918 32.813538     0.0 ...       nan  0.2480869637380084"
      ]
     },
     "execution_count": 3,
     "metadata": {},
     "output_type": "execute_result"
    }
   ],
   "source": [
    "catmatch.match_catalogs(ages, cdwfs, max_sep=3., match_type='best', join_type='1+2')[:5]"
   ]
  },
  {
   "cell_type": "markdown",
   "id": "af29cc88-8b34-4349-849e-2230b77240df",
   "metadata": {},
   "source": [
    "Find *all* matches between Tables 1 and 2"
   ]
  },
  {
   "cell_type": "code",
   "execution_count": 4,
   "id": "9d6ba48d-cfc8-4f5a-b17a-3f42836d0320",
   "metadata": {},
   "outputs": [
    {
     "name": "stderr",
     "output_type": "stream",
     "text": [
      "WARNING:root:'RA' will be used as RA coordinate\n",
      "WARNING:root:'DEC' will be used as DEC coordinate\n",
      "WARNING:root:'RAJ2000' will be used as RA coordinate\n",
      "WARNING:root:'DEJ2000' will be used as DEC coordinate\n"
     ]
    },
    {
     "data": {
      "text/html": [
       "<div><i>Table length=5</i>\n",
       "<table id=\"table4495234048\" class=\"table-striped table-bordered table-condensed\">\n",
       "<thead><tr><th>RA</th><th>DEC</th><th>Zspec</th><th>RAJ2000</th><th>DEJ2000</th><th>FLUX_S</th><th>ZBEST</th><th>GroupSize</th><th>Separation</th></tr></thead>\n",
       "<thead><tr><th>float32</th><th>float32</th><th>float32</th><th>float64</th><th>float64</th><th>float64</th><th>float64</th><th>float64</th><th>float64</th></tr></thead>\n",
       "<tr><td>218.16072</td><td>32.83468</td><td>0.0</td><td>218.1607252994647</td><td>32.83464494746805</td><td>1.0538676565003613e-15</td><td>0.443</td><td>2.0</td><td>0.1274721669179714</td></tr>\n",
       "<tr><td>218.16072</td><td>32.83468</td><td>0.0</td><td>218.16020239100664</td><td>32.83406889724999</td><td>1.3482814825360456e-15</td><td>0.443</td><td>2.0</td><td>2.7021436903376226</td></tr>\n",
       "<tr><td>216.76991</td><td>32.837914</td><td>0.23</td><td>216.7700559641191</td><td>32.83790783703618</td><td>8.572650083834289e-16</td><td>0.23000000417232513</td><td>nan</td><td>0.4337065439422943</td></tr>\n",
       "<tr><td>218.24571</td><td>32.838345</td><td>1.872</td><td>218.2454227568787</td><td>32.83873928410986</td><td>2.193931723346349e-15</td><td>1.871999979019165</td><td>nan</td><td>1.673126936420171</td></tr>\n",
       "<tr><td>218.19464</td><td>32.838844</td><td>0.0</td><td>218.1947298534221</td><td>32.83889398222865</td><td>7.528940561692093e-15</td><td>1.5556</td><td>nan</td><td>0.32616973589823517</td></tr>\n",
       "</table></div>"
      ],
      "text/plain": [
       "<Table length=5>\n",
       "    RA       DEC     Zspec  ... GroupSize      Separation    \n",
       " float32   float32  float32 ...  float64        float64      \n",
       "--------- --------- ------- ... --------- -------------------\n",
       "218.16072  32.83468     0.0 ...       2.0  0.1274721669179714\n",
       "218.16072  32.83468     0.0 ...       2.0  2.7021436903376226\n",
       "216.76991 32.837914    0.23 ...       nan  0.4337065439422943\n",
       "218.24571 32.838345   1.872 ...       nan   1.673126936420171\n",
       "218.19464 32.838844     0.0 ...       nan 0.32616973589823517"
      ]
     },
     "execution_count": 4,
     "metadata": {},
     "output_type": "execute_result"
    }
   ],
   "source": [
    "catmatch.match_catalogs(ages, cdwfs, max_sep=3., match_type='all', join_type='1+2')[10:15]"
   ]
  },
  {
   "cell_type": "markdown",
   "id": "93601be8-5f20-4aa7-9ff5-cef4a0c2adef",
   "metadata": {},
   "source": [
    "Find best *symmetric* match between Tables 1 and 2"
   ]
  },
  {
   "cell_type": "code",
   "execution_count": 5,
   "id": "0650c53e-4ed6-4c72-a444-f45cf09ce306",
   "metadata": {},
   "outputs": [
    {
     "name": "stderr",
     "output_type": "stream",
     "text": [
      "WARNING:root:'RA' will be used as RA coordinate\n",
      "WARNING:root:'DEC' will be used as DEC coordinate\n",
      "WARNING:root:'RAJ2000' will be used as RA coordinate\n",
      "WARNING:root:'DEJ2000' will be used as DEC coordinate\n"
     ]
    },
    {
     "data": {
      "text/html": [
       "<div><i>Table length=5</i>\n",
       "<table id=\"table4451645584\" class=\"table-striped table-bordered table-condensed\">\n",
       "<thead><tr><th>RA</th><th>DEC</th><th>Zspec</th><th>RAJ2000</th><th>DEJ2000</th><th>FLUX_S</th><th>ZBEST</th><th>Separation</th></tr></thead>\n",
       "<thead><tr><th>float32</th><th>float32</th><th>float32</th><th>float64</th><th>float64</th><th>float64</th><th>float64</th><th>float64</th></tr></thead>\n",
       "<tr><td>217.29701</td><td>32.806732</td><td>1.257</td><td>217.2972360081108</td><td>32.8068358197063</td><td>4.542615220843412e-14</td><td>1.2569999694824219</td><td>0.7774775881546183</td></tr>\n",
       "<tr><td>216.19984</td><td>32.8082</td><td>1.954</td><td>216.1998716999761</td><td>32.80786990809854</td><td>1.3055040218016326e-14</td><td>1.9539999961853027</td><td>1.1902891601112502</td></tr>\n",
       "<tr><td>216.21259</td><td>32.81331</td><td>0.346</td><td>216.2126399771656</td><td>32.81337212526544</td><td>5.058812741404077e-15</td><td>0.34599998593330383</td><td>0.2824416863164434</td></tr>\n",
       "<tr><td>216.416</td><td>32.813328</td><td>1.398</td><td>216.4160282783758</td><td>32.81322445088963</td><td>1.0528453625487871e-14</td><td>1.3980000019073486</td><td>0.38344421923693767</td></tr>\n",
       "<tr><td>218.12918</td><td>32.813538</td><td>0.0</td><td>218.1291335884519</td><td>32.81359207842783</td><td>8.368903791974268e-16</td><td>0.9279</td><td>0.2480869637380084</td></tr>\n",
       "</table></div>"
      ],
      "text/plain": [
       "<Table length=5>\n",
       "    RA       DEC     Zspec  ...        ZBEST             Separation    \n",
       " float32   float32  float32 ...       float64             float64      \n",
       "--------- --------- ------- ... ------------------- -------------------\n",
       "217.29701 32.806732   1.257 ...  1.2569999694824219  0.7774775881546183\n",
       "216.19984   32.8082   1.954 ...  1.9539999961853027  1.1902891601112502\n",
       "216.21259  32.81331   0.346 ... 0.34599998593330383  0.2824416863164434\n",
       "  216.416 32.813328   1.398 ...  1.3980000019073486 0.38344421923693767\n",
       "218.12918 32.813538     0.0 ...              0.9279  0.2480869637380084"
      ]
     },
     "execution_count": 5,
     "metadata": {},
     "output_type": "execute_result"
    }
   ],
   "source": [
    "catmatch.match_catalogs(ages, cdwfs, max_sep=3., match_type='best_symmetric', join_type='1+2')[:5]"
   ]
  },
  {
   "cell_type": "markdown",
   "id": "0e04b542-2af8-45aa-8580-5a420be33156",
   "metadata": {},
   "source": [
    "Find sources in Table 1 without a match in Table 2"
   ]
  },
  {
   "cell_type": "code",
   "execution_count": 6,
   "id": "fdc5a28a-ec6c-473c-9904-a2e7db3a4160",
   "metadata": {},
   "outputs": [
    {
     "name": "stderr",
     "output_type": "stream",
     "text": [
      "WARNING:root:'RA' will be used as RA coordinate\n",
      "WARNING:root:'DEC' will be used as DEC coordinate\n",
      "WARNING:root:'RAJ2000' will be used as RA coordinate\n",
      "WARNING:root:'DEJ2000' will be used as DEC coordinate\n"
     ]
    },
    {
     "data": {
      "text/html": [
       "<div><i>Table length=5</i>\n",
       "<table id=\"table4416006192\" class=\"table-striped table-bordered table-condensed\">\n",
       "<thead><tr><th>RA</th><th>DEC</th><th>Zspec</th></tr></thead>\n",
       "<thead><tr><th>float32</th><th>float32</th><th>float32</th></tr></thead>\n",
       "<tr><td>217.37547</td><td>32.80627</td><td>0.219</td></tr>\n",
       "<tr><td>217.89304</td><td>32.806416</td><td>0.0</td></tr>\n",
       "<tr><td>217.30463</td><td>32.806824</td><td>0.136</td></tr>\n",
       "<tr><td>216.311</td><td>32.808258</td><td>0.352</td></tr>\n",
       "<tr><td>216.33376</td><td>32.806957</td><td>0.0</td></tr>\n",
       "</table></div>"
      ],
      "text/plain": [
       "<Table length=5>\n",
       "    RA       DEC     Zspec \n",
       " float32   float32  float32\n",
       "--------- --------- -------\n",
       "217.37547  32.80627   0.219\n",
       "217.89304 32.806416     0.0\n",
       "217.30463 32.806824   0.136\n",
       "  216.311 32.808258   0.352\n",
       "216.33376 32.806957     0.0"
      ]
     },
     "execution_count": 6,
     "metadata": {},
     "output_type": "execute_result"
    }
   ],
   "source": [
    "catmatch.match_catalogs(ages, cdwfs, max_sep=3., match_type='best', join_type='1_not_2')[:5]"
   ]
  },
  {
   "cell_type": "markdown",
   "id": "6c8ef258-86d2-4b13-922c-678293e0d704",
   "metadata": {},
   "source": [
    "Find matches, but keeping all rows in Table 1, including those without matches"
   ]
  },
  {
   "cell_type": "code",
   "execution_count": 7,
   "id": "d0e87f5c-a629-435f-806e-f837f565b7c0",
   "metadata": {},
   "outputs": [
    {
     "name": "stderr",
     "output_type": "stream",
     "text": [
      "WARNING:root:'RA' will be used as RA coordinate\n",
      "WARNING:root:'DEC' will be used as DEC coordinate\n",
      "WARNING:root:'RAJ2000' will be used as RA coordinate\n",
      "WARNING:root:'DEJ2000' will be used as DEC coordinate\n",
      "WARNING: MergeConflictWarning: Cannot merge meta key 'EXTNAME' types <class 'str'> and <class 'str'>, choosing EXTNAME='/Users/graysonpetter/Desktop/Dartmouth/22/catalogs/redshifts/AGES/re' [astropy.utils.metadata.merge]\n",
      "WARNING:astropy:MergeConflictWarning: Cannot merge meta key 'EXTNAME' types <class 'str'> and <class 'str'>, choosing EXTNAME='/Users/graysonpetter/Desktop/Dartmouth/22/catalogs/redshifts/AGES/re'\n",
      "WARNING: MergeConflictWarning: Cannot merge meta key 'DATE-HDU' types <class 'str'> and <class 'str'>, choosing DATE-HDU='2024-10-20T18:55:20' [astropy.utils.metadata.merge]\n",
      "WARNING:astropy:MergeConflictWarning: Cannot merge meta key 'DATE-HDU' types <class 'str'> and <class 'str'>, choosing DATE-HDU='2024-10-20T18:55:20'\n"
     ]
    },
    {
     "data": {
      "text/html": [
       "<div><i>Table length=40810</i>\n",
       "<table id=\"table4419463040\" class=\"table-striped table-bordered table-condensed\">\n",
       "<thead><tr><th>RA</th><th>DEC</th><th>Zspec</th><th>RAJ2000</th><th>DEJ2000</th><th>FLUX_S</th><th>ZBEST</th><th>GroupSize</th><th>Separation</th></tr></thead>\n",
       "<thead><tr><th>float32</th><th>float32</th><th>float32</th><th>float64</th><th>float64</th><th>float64</th><th>float64</th><th>float64</th><th>float64</th></tr></thead>\n",
       "<tr><td>217.29701</td><td>32.806732</td><td>1.257</td><td>217.2972360081108</td><td>32.8068358197063</td><td>4.542615220843412e-14</td><td>1.2569999694824219</td><td>nan</td><td>0.7774775881546183</td></tr>\n",
       "<tr><td>216.19984</td><td>32.8082</td><td>1.954</td><td>216.1998716999761</td><td>32.80786990809854</td><td>1.3055040218016326e-14</td><td>1.9539999961853027</td><td>nan</td><td>1.1902891601112502</td></tr>\n",
       "<tr><td>216.21259</td><td>32.81331</td><td>0.346</td><td>216.2126399771656</td><td>32.81337212526544</td><td>5.058812741404077e-15</td><td>0.34599998593330383</td><td>nan</td><td>0.2824416863164434</td></tr>\n",
       "<tr><td>216.416</td><td>32.813328</td><td>1.398</td><td>216.4160282783758</td><td>32.81322445088963</td><td>1.0528453625487871e-14</td><td>1.3980000019073486</td><td>nan</td><td>0.38344421923693767</td></tr>\n",
       "<tr><td>218.12918</td><td>32.813538</td><td>0.0</td><td>218.1291335884519</td><td>32.81359207842783</td><td>8.368903791974268e-16</td><td>0.9279</td><td>nan</td><td>0.2480869637380084</td></tr>\n",
       "<tr><td>218.0017</td><td>32.813934</td><td>0.0</td><td>218.00156577914</td><td>32.81364476871865</td><td>2.412269864925063e-15</td><td>1.233</td><td>nan</td><td>1.1097438833514879</td></tr>\n",
       "<tr><td>218.19844</td><td>32.81398</td><td>0.0</td><td>218.1984943187038</td><td>32.8140113154581</td><td>3.616171807779642e-14</td><td>1.1504</td><td>nan</td><td>0.19213642943251916</td></tr>\n",
       "<tr><td>217.83969</td><td>32.820637</td><td>0.294</td><td>217.8395080725329</td><td>32.82059709319382</td><td>7.024910528477959e-14</td><td>0.2939999997615814</td><td>nan</td><td>0.5710746885078235</td></tr>\n",
       "<tr><td>216.5947</td><td>32.821068</td><td>0.915</td><td>216.5946363504381</td><td>32.82119569974319</td><td>1.1485733542412933e-14</td><td>0.9150000214576721</td><td>nan</td><td>0.501368076979413</td></tr>\n",
       "<tr><td>...</td><td>...</td><td>...</td><td>...</td><td>...</td><td>...</td><td>...</td><td>...</td><td>...</td></tr>\n",
       "<tr><td>218.98964</td><td>35.870785</td><td>0.528</td><td>--</td><td>--</td><td>--</td><td>--</td><td>--</td><td>--</td></tr>\n",
       "<tr><td>218.91965</td><td>35.87123</td><td>0.0</td><td>--</td><td>--</td><td>--</td><td>--</td><td>--</td><td>--</td></tr>\n",
       "<tr><td>218.31197</td><td>35.87299</td><td>0.152</td><td>--</td><td>--</td><td>--</td><td>--</td><td>--</td><td>--</td></tr>\n",
       "<tr><td>218.99127</td><td>35.88126</td><td>0.0</td><td>--</td><td>--</td><td>--</td><td>--</td><td>--</td><td>--</td></tr>\n",
       "<tr><td>218.98169</td><td>35.885075</td><td>0.0</td><td>--</td><td>--</td><td>--</td><td>--</td><td>--</td><td>--</td></tr>\n",
       "<tr><td>218.94113</td><td>35.885864</td><td>0.0</td><td>--</td><td>--</td><td>--</td><td>--</td><td>--</td><td>--</td></tr>\n",
       "<tr><td>218.9808</td><td>35.88732</td><td>0.0</td><td>--</td><td>--</td><td>--</td><td>--</td><td>--</td><td>--</td></tr>\n",
       "<tr><td>218.97296</td><td>35.88742</td><td>0.0</td><td>--</td><td>--</td><td>--</td><td>--</td><td>--</td><td>--</td></tr>\n",
       "<tr><td>218.778</td><td>35.88793</td><td>0.0</td><td>--</td><td>--</td><td>--</td><td>--</td><td>--</td><td>--</td></tr>\n",
       "<tr><td>218.95206</td><td>35.88963</td><td>0.0</td><td>--</td><td>--</td><td>--</td><td>--</td><td>--</td><td>--</td></tr>\n",
       "</table></div>"
      ],
      "text/plain": [
       "<Table length=40810>\n",
       "    RA       DEC     Zspec  ... GroupSize      Separation    \n",
       " float32   float32  float32 ...  float64        float64      \n",
       "--------- --------- ------- ... --------- -------------------\n",
       "217.29701 32.806732   1.257 ...       nan  0.7774775881546183\n",
       "216.19984   32.8082   1.954 ...       nan  1.1902891601112502\n",
       "216.21259  32.81331   0.346 ...       nan  0.2824416863164434\n",
       "  216.416 32.813328   1.398 ...       nan 0.38344421923693767\n",
       "218.12918 32.813538     0.0 ...       nan  0.2480869637380084\n",
       " 218.0017 32.813934     0.0 ...       nan  1.1097438833514879\n",
       "218.19844  32.81398     0.0 ...       nan 0.19213642943251916\n",
       "217.83969 32.820637   0.294 ...       nan  0.5710746885078235\n",
       " 216.5947 32.821068   0.915 ...       nan   0.501368076979413\n",
       "      ...       ...     ... ...       ...                 ...\n",
       "218.98964 35.870785   0.528 ...        --                  --\n",
       "218.91965  35.87123     0.0 ...        --                  --\n",
       "218.31197  35.87299   0.152 ...        --                  --\n",
       "218.99127  35.88126     0.0 ...        --                  --\n",
       "218.98169 35.885075     0.0 ...        --                  --\n",
       "218.94113 35.885864     0.0 ...        --                  --\n",
       " 218.9808  35.88732     0.0 ...        --                  --\n",
       "218.97296  35.88742     0.0 ...        --                  --\n",
       "  218.778  35.88793     0.0 ...        --                  --\n",
       "218.95206  35.88963     0.0 ...        --                  --"
      ]
     },
     "execution_count": 7,
     "metadata": {},
     "output_type": "execute_result"
    }
   ],
   "source": [
    "catmatch.match_catalogs(ages, cdwfs, max_sep=3., match_type='best', join_type='all_from_1')"
   ]
  },
  {
   "cell_type": "code",
   "execution_count": null,
   "id": "6e28dd84-9c08-427b-a1fe-ece493886e5d",
   "metadata": {},
   "outputs": [],
   "source": []
  }
 ],
 "metadata": {
  "kernelspec": {
   "display_name": "Python 3 (ipykernel)",
   "language": "python",
   "name": "python3"
  },
  "language_info": {
   "codemirror_mode": {
    "name": "ipython",
    "version": 3
   },
   "file_extension": ".py",
   "mimetype": "text/x-python",
   "name": "python",
   "nbconvert_exporter": "python",
   "pygments_lexer": "ipython3",
   "version": "3.13.0"
  }
 },
 "nbformat": 4,
 "nbformat_minor": 5
}
